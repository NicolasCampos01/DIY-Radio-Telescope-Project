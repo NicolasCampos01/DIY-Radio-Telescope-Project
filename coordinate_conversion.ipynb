{
  "cells": [
    {
      "cell_type": "markdown",
      "metadata": {
        "id": "bw2kakeZUV4n"
      },
      "source": [
        "# examples of converting between az/el to sky position\n",
        "### https://docs.astropy.org/en/stable/coordinates/index.html\n",
        "####"
      ]
    },
    {
      "cell_type": "code",
      "execution_count": null,
      "metadata": {
        "id": "VG4YDSpNUV4s"
      },
      "outputs": [],
      "source": [
        "from astropy import units as u\n",
        "from astropy.time import Time\n",
        "from datetime import datetime\n",
        "from astropy.coordinates import SkyCoord, EarthLocation, AltAz, get_sun"
      ]
    },
    {
      "cell_type": "code",
      "execution_count": null,
      "metadata": {
        "id": "W4F6vA_0UV4u"
      },
      "outputs": [],
      "source": [
        "# enter your observing location and time here\n",
        "here = EarthLocation(lat=-33.439*u.deg, lon=-70.6432*u.deg, height=600*u.m)\n",
        "now = '2023-11-06 15:00'\n",
        "now = Time(datetime.now(), scale='utc') + 3*u.hour"
      ]
    },
    {
      "cell_type": "markdown",
      "metadata": {
        "id": "Af7vlVR5UV4u"
      },
      "source": [
        "### convert from telescope azimuth and elevation (altitude) to sky position in galactic coordinates"
      ]
    },
    {
      "cell_type": "code",
      "execution_count": null,
      "metadata": {
        "colab": {
          "base_uri": "https://localhost:8080/"
        },
        "id": "iPnikKyhUV4v",
        "outputId": "3e7c1e58-c3eb-458d-b99b-3a9894e93c27"
      },
      "outputs": [
        {
          "output_type": "stream",
          "name": "stdout",
          "text": [
            "l = 206.0 deg, b = -9.8 deg\n"
          ]
        }
      ],
      "source": [
        "alt = 45\n",
        "az = 45\n",
        "c = SkyCoord(alt=alt, az=az, frame='altaz', unit='deg', obstime=Time(now, scale='utc'), location=here)\n",
        "gal = c.galactic\n",
        "print('l = {0:5.1f}, b = {1:4.1f}'.format(gal.l, gal.b))"
      ]
    },
    {
      "cell_type": "markdown",
      "metadata": {
        "id": "nKtqK0TVUV4w"
      },
      "source": [
        "### tells you where to point the telescope to observe a given galactic sky position"
      ]
    },
    {
      "cell_type": "code",
      "execution_count": null,
      "metadata": {
        "colab": {
          "base_uri": "https://localhost:8080/"
        },
        "id": "-9YILR84UV4w",
        "outputId": "dc15ef58-8934-4b7a-eb64-824109255c08"
      },
      "outputs": [
        {
          "output_type": "stream",
          "name": "stdout",
          "text": [
            "Azimuth = 234.9 deg, Elevation = -37.5 deg\n"
          ]
        }
      ],
      "source": [
        "l = 30.0\n",
        "b = 0.0\n",
        "c = SkyCoord(l, b, frame='galactic', unit='deg')\n",
        "altaz = c.transform_to(AltAz(obstime=Time(now, scale='utc'), location=here))\n",
        "print('Azimuth = {0:4.1f}, Elevation = {1:5.1f}'.format(altaz.az, altaz.alt))"
      ]
    },
    {
      "cell_type": "code",
      "execution_count": null,
      "metadata": {
        "colab": {
          "base_uri": "https://localhost:8080/"
        },
        "id": "C5F7pB8YUV4y",
        "outputId": "00248a24-4c2f-42d1-e6c2-e1985f33597e"
      },
      "outputs": [
        {
          "output_type": "stream",
          "name": "stdout",
          "text": [
            "Azimuth = 226.6 deg, Elevation =  10.3 deg\n"
          ]
        }
      ],
      "source": [
        "# good position for cold calibration (weak HI)\n",
        "l_cold = 0.0\n",
        "b_cold = -40.0\n",
        "c = SkyCoord(l_cold, b_cold, frame='galactic', unit='deg')\n",
        "altaz = c.transform_to(AltAz(obstime=Time(now, scale='utc'), location=here))\n",
        "print('Azimuth = {0:4.1f}, Elevation = {1:5.1f}'.format(altaz.az, altaz.alt))"
      ]
    },
    {
      "cell_type": "markdown",
      "metadata": {
        "id": "P65f4Gz2UV4y"
      },
      "source": [
        "### tells you where to point the telescope to observe a given equatorial sky position"
      ]
    },
    {
      "cell_type": "code",
      "execution_count": null,
      "metadata": {
        "colab": {
          "base_uri": "https://localhost:8080/"
        },
        "id": "KvVVNdXlUV4z",
        "outputId": "c2e2162e-2bbb-4b52-f05a-c278889b214a"
      },
      "outputs": [
        {
          "output_type": "stream",
          "name": "stdout",
          "text": [
            "Azimuth = 42.1 deg, Elevation =  54.8 deg\n"
          ]
        }
      ],
      "source": [
        "c = SkyCoord.from_name('Orion', frame='icrs')\n",
        "altaz = c.transform_to(AltAz(obstime=Time(now, scale='utc'), location=here))\n",
        "print('Azimuth = {0:4.1f}, Elevation = {1:5.1f}'.format(altaz.az, altaz.alt))\n",
        "# in this example, Orion is below the horizon and can't be observed at this time!"
      ]
    },
    {
      "cell_type": "code",
      "execution_count": null,
      "metadata": {
        "id": "56TvKbfPUV4z"
      },
      "outputs": [],
      "source": []
    }
  ],
  "metadata": {
    "kernelspec": {
      "display_name": "Python 3 (ipykernel)",
      "language": "python",
      "name": "python3"
    },
    "language_info": {
      "codemirror_mode": {
        "name": "ipython",
        "version": 3
      },
      "file_extension": ".py",
      "mimetype": "text/x-python",
      "name": "python",
      "nbconvert_exporter": "python",
      "pygments_lexer": "ipython3",
      "version": "3.11.5"
    },
    "colab": {
      "provenance": []
    }
  },
  "nbformat": 4,
  "nbformat_minor": 0
}